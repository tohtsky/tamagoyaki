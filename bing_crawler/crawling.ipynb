{
 "cells": [
  {
   "cell_type": "markdown",
   "metadata": {},
   "source": [
    "bing image search\n",
    "\n",
    "https://azure.microsoft.com/ja-jp/services/cognitive-services/bing-image-search-api/\n",
    "https://docs.microsoft.com/en-us/rest/api/cognitiveservices/bing-images-api-v7-reference#query-parameters"
   ]
  },
  {
   "cell_type": "code",
   "execution_count": 1,
   "metadata": {},
   "outputs": [
    {
     "name": "stderr",
     "output_type": "stream",
     "text": [
      "/Users/kyohei.watarai/.pyenv/versions/3.7.0/lib/python3.7/site-packages/requests/__init__.py:91: RequestsDependencyWarning: urllib3 (1.24.1) or chardet (3.0.4) doesn't match a supported version!\n",
      "  RequestsDependencyWarning)\n"
     ]
    }
   ],
   "source": [
    "import requests\n",
    "import tqdm"
   ]
  },
  {
   "cell_type": "code",
   "execution_count": 2,
   "metadata": {},
   "outputs": [],
   "source": [
    "with open(\"../.credentials/key.txt\") as f:\n",
    "    subscription_key = f.read().replace('\\n','')"
   ]
  },
  {
   "cell_type": "code",
   "execution_count": 10,
   "metadata": {},
   "outputs": [],
   "source": [
    "search_url = \"https://api.cognitive.microsoft.com/bing/v7.0/images/search\"\n",
    "search_term = \"玉子焼き\"\n",
    "# search_term = \"だし巻き玉子\"\n",
    "headers = {\"Ocp-Apim-Subscription-Key\" : subscription_key}"
   ]
  },
  {
   "cell_type": "code",
   "execution_count": 11,
   "metadata": {},
   "outputs": [],
   "source": [
    "def get_bing_images(url, headers, term):\n",
    "    params  = {\"q\": term,  \"mkt\": \"ja-JP\", \"count\": 150}\n",
    "    response = requests.get(url, headers=headers, params=params)\n",
    "    return response.json()"
   ]
  },
  {
   "cell_type": "code",
   "execution_count": 12,
   "metadata": {},
   "outputs": [],
   "source": [
    "search_results = get_bing_images(search_url, headers, search_term)"
   ]
  },
  {
   "cell_type": "code",
   "execution_count": 13,
   "metadata": {},
   "outputs": [],
   "source": [
    "values = search_results.get('value')"
   ]
  },
  {
   "cell_type": "code",
   "execution_count": 14,
   "metadata": {},
   "outputs": [],
   "source": [
    "def download_image(value):\n",
    "    url = value.get('contentUrl')\n",
    "    response = requests.get(url)\n",
    "    return response.content"
   ]
  },
  {
   "cell_type": "code",
   "execution_count": 15,
   "metadata": {},
   "outputs": [],
   "source": [
    "def save_image(filename, image):\n",
    "    with open(filename, 'wb') as f:\n",
    "        f.write(image)"
   ]
  },
  {
   "cell_type": "code",
   "execution_count": 17,
   "metadata": {},
   "outputs": [
    {
     "name": "stdout",
     "output_type": "stream",
     "text": [
      "10-images created.\n",
      "20-images created.\n",
      "30-images created.\n",
      "40-images created.\n",
      "50-images created.\n",
      "60-images created.\n",
      "70-images created.\n",
      "80-images created.\n",
      "90-images created.\n",
      "100-images created.\n",
      "110-images created.\n",
      "120-images created.\n",
      "130-images created.\n",
      "140-images created.\n",
      "150-images created.\n",
      "finish\n"
     ]
    }
   ],
   "source": [
    "dir_path = 'tamagoyaki'\n",
    "for i, value in enumerate(values):\n",
    "    image = download_image(value)\n",
    "    filename = \"../images/{0}/tamagoyaki_{1:04d}.{2}\".format(dir_path, i, values[0].get('encodingFormat'))\n",
    "    save_image(filename, image)\n",
    "    if (i+1)%10 == 0:\n",
    "        print(f\"{i+1}-images created.\")\n",
    "print(\"finish\")"
   ]
  },
  {
   "cell_type": "code",
   "execution_count": null,
   "metadata": {},
   "outputs": [],
   "source": []
  }
 ],
 "metadata": {
  "kernelspec": {
   "display_name": "Python 3",
   "language": "python",
   "name": "python3"
  },
  "language_info": {
   "codemirror_mode": {
    "name": "ipython",
    "version": 3
   },
   "file_extension": ".py",
   "mimetype": "text/x-python",
   "name": "python",
   "nbconvert_exporter": "python",
   "pygments_lexer": "ipython3",
   "version": "3.7.0"
  }
 },
 "nbformat": 4,
 "nbformat_minor": 2
}
