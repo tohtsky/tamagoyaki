{
 "cells": [
  {
   "cell_type": "code",
   "execution_count": 1,
   "metadata": {},
   "outputs": [],
   "source": [
    "import os\n",
    "import glob\n",
    "\n",
    "import numpy as np\n",
    "import cv2 as cv\n",
    "import tqdm"
   ]
  },
  {
   "cell_type": "code",
   "execution_count": 2,
   "metadata": {},
   "outputs": [],
   "source": [
    "tg_dir = '../images/raw/tamagoyaki'\n",
    "ds_dir = '../images/raw/dashimaki'"
   ]
  },
  {
   "cell_type": "code",
   "execution_count": 3,
   "metadata": {},
   "outputs": [],
   "source": [
    "resize_tg_dir = '../images/resize/tamagoyaki'\n",
    "resize_ds_dir = '../images/resize/dashimaki'\n",
    "resize_dir = '../images/resize/data'"
   ]
  },
  {
   "cell_type": "code",
   "execution_count": 8,
   "metadata": {},
   "outputs": [],
   "source": [
    "def resize_images(base_dir, output_dir):\n",
    "    for img_path in tqdm.tqdm(glob.glob(f'{base_dir}/*')):\n",
    "        if '.gitkeep' in img_path:\n",
    "            continue\n",
    "        img = cv.imread(img_path)\n",
    "        try:\n",
    "            fix_img = cv.resize(img, (128, 128))\n",
    "        except:\n",
    "            continue\n",
    "        cv.imwrite(f'{output_dir}/{os.path.basename(img_path)}', fix_img)"
   ]
  },
  {
   "cell_type": "code",
   "execution_count": 9,
   "metadata": {},
   "outputs": [
    {
     "name": "stderr",
     "output_type": "stream",
     "text": [
      "100%|██████████| 150/150 [00:01<00:00, 75.05it/s]\n",
      "100%|██████████| 150/150 [00:01<00:00, 77.74it/s]"
     ]
    },
    {
     "name": "stdout",
     "output_type": "stream",
     "text": [
      "DONE\n"
     ]
    },
    {
     "name": "stderr",
     "output_type": "stream",
     "text": [
      "\n"
     ]
    }
   ],
   "source": [
    "resize_images(tg_dir, resize_dir)\n",
    "resize_images(tg_dir, resize_tg_dir)\n",
    "print(\"DONE\")"
   ]
  },
  {
   "cell_type": "code",
   "execution_count": 10,
   "metadata": {},
   "outputs": [
    {
     "name": "stderr",
     "output_type": "stream",
     "text": [
      "100%|██████████| 101/101 [00:01<00:00, 78.54it/s]\n",
      "100%|██████████| 101/101 [00:01<00:00, 79.14it/s]"
     ]
    },
    {
     "name": "stdout",
     "output_type": "stream",
     "text": [
      "DONE\n"
     ]
    },
    {
     "name": "stderr",
     "output_type": "stream",
     "text": [
      "\n"
     ]
    }
   ],
   "source": [
    "resize_images(ds_dir, resize_dir)\n",
    "resize_images(ds_dir, resize_ds_dir)\n",
    "print(\"DONE\")"
   ]
  },
  {
   "cell_type": "code",
   "execution_count": null,
   "metadata": {},
   "outputs": [],
   "source": []
  }
 ],
 "metadata": {
  "kernelspec": {
   "display_name": "Python 3",
   "language": "python",
   "name": "python3"
  },
  "language_info": {
   "codemirror_mode": {
    "name": "ipython",
    "version": 3
   },
   "file_extension": ".py",
   "mimetype": "text/x-python",
   "name": "python",
   "nbconvert_exporter": "python",
   "pygments_lexer": "ipython3",
   "version": "3.7.0"
  }
 },
 "nbformat": 4,
 "nbformat_minor": 2
}
