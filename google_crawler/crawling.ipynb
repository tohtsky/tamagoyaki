{
 "cells": [
  {
   "cell_type": "markdown",
   "metadata": {},
   "source": [
    "google image search\n",
    "\n",
    "https://developers.google.com/custom-search/v1/using_rest\n",
    "https://developers.google.com/custom-search/v1/cse/list#request"
   ]
  },
  {
   "cell_type": "code",
   "execution_count": 1,
   "metadata": {},
   "outputs": [],
   "source": [
    "import requests\n",
    "import tqdm\n",
    "import urllib"
   ]
  },
  {
   "cell_type": "code",
   "execution_count": 2,
   "metadata": {},
   "outputs": [],
   "source": [
    "with open(\"../.credentials/google_key.txt\") as f:\n",
    "    subscription_key = f.read().replace('\\n','')"
   ]
  },
  {
   "cell_type": "code",
   "execution_count": 3,
   "metadata": {},
   "outputs": [],
   "source": [
    "with open(\"../.credentials/cx.txt\") as f:\n",
    "    cx_key = f.read().replace('\\n', '')"
   ]
  },
  {
   "cell_type": "code",
   "execution_count": 4,
   "metadata": {},
   "outputs": [],
   "source": [
    "search_url = \"https://www.googleapis.com/customsearch/v1\"\n",
    "search_term = \"出汁巻玉子\"\n",
    "# search_term = \"だし巻き玉子\""
   ]
  },
  {
   "cell_type": "code",
   "execution_count": 5,
   "metadata": {},
   "outputs": [],
   "source": [
    "def get_bing_images(url, term, key, cx, start):\n",
    "    params  = {\"q\": term,  \"key\": key, \"cx\": cx, \"start\": start}\n",
    "    response = requests.get(url, params=params)\n",
    "    return response.json()"
   ]
  },
  {
   "cell_type": "code",
   "execution_count": 6,
   "metadata": {},
   "outputs": [],
   "source": [
    "# tmp = get_bing_images(search_url, search_term, subscription_key, cx_key)"
   ]
  },
  {
   "cell_type": "code",
   "execution_count": 7,
   "metadata": {},
   "outputs": [],
   "source": [
    "#tmp"
   ]
  },
  {
   "cell_type": "code",
   "execution_count": 8,
   "metadata": {},
   "outputs": [
    {
     "name": "stderr",
     "output_type": "stream",
     "text": [
      "100%|██████████| 10/10 [00:09<00:00,  1.04it/s]\n"
     ]
    }
   ],
   "source": [
    "start_index = 1\n",
    "items = []\n",
    "for i in tqdm.tqdm(range(10)):\n",
    "    search_results = get_bing_images(search_url, search_term, subscription_key, cx_key, start_index)\n",
    "    items.extend(search_results.get('items'))\n",
    "    start_index = search_results.get('queries').get('nextPage')[0].get('startIndex')"
   ]
  },
  {
   "cell_type": "code",
   "execution_count": 9,
   "metadata": {},
   "outputs": [],
   "source": [
    "def download_image(cse_image):\n",
    "    url = cse_image.get('src')\n",
    "    url = urllib.parse.urlunparse(urllib.parse.urlparse(url)._replace(query=None))\n",
    "    response = requests.get(url)\n",
    "    return response.content, url.split('.')[-1] # image data & extend"
   ]
  },
  {
   "cell_type": "code",
   "execution_count": 10,
   "metadata": {},
   "outputs": [],
   "source": [
    "def save_image(filename, image):\n",
    "    with open(filename, 'wb') as f:\n",
    "        f.write(image)"
   ]
  },
  {
   "cell_type": "code",
   "execution_count": 11,
   "metadata": {},
   "outputs": [
    {
     "name": "stderr",
     "output_type": "stream",
     "text": [
      "100%|██████████| 100/100 [00:30<00:00,  3.27it/s]"
     ]
    },
    {
     "name": "stdout",
     "output_type": "stream",
     "text": [
      "finish\n"
     ]
    },
    {
     "name": "stderr",
     "output_type": "stream",
     "text": [
      "\n"
     ]
    }
   ],
   "source": [
    "dir_path = 'dashimaki'\n",
    "counter = 0\n",
    "for item in tqdm.tqdm(items):\n",
    "    cse_images = item.get('pagemap').get('cse_image')\n",
    "    for cse_image in cse_images:\n",
    "        image, ext = download_image(cse_image)\n",
    "        filename = \"../images/{0}/dashimaki_{1:04d}.{2}\".format(dir_path, counter, ext)\n",
    "        save_image(filename, image)\n",
    "        counter += 1\n",
    "print(\"finish\")"
   ]
  },
  {
   "cell_type": "code",
   "execution_count": null,
   "metadata": {},
   "outputs": [],
   "source": []
  }
 ],
 "metadata": {
  "kernelspec": {
   "display_name": "Python 3",
   "language": "python",
   "name": "python3"
  },
  "language_info": {
   "codemirror_mode": {
    "name": "ipython",
    "version": 3
   },
   "file_extension": ".py",
   "mimetype": "text/x-python",
   "name": "python",
   "nbconvert_exporter": "python",
   "pygments_lexer": "ipython3",
   "version": "3.6.3"
  }
 },
 "nbformat": 4,
 "nbformat_minor": 2
}
